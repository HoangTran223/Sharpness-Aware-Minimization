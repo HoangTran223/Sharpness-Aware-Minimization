{
 "cells": [
  {
   "cell_type": "code",
   "execution_count": 1,
   "id": "283de5fd",
   "metadata": {
    "_cell_guid": "b1076dfc-b9ad-4769-8c92-a6c4dae69d19",
    "_uuid": "8f2839f25d086af736a60e9eeb907d3b93b6e0e5",
    "execution": {
     "iopub.execute_input": "2024-08-09T13:29:24.385913Z",
     "iopub.status.busy": "2024-08-09T13:29:24.385456Z",
     "iopub.status.idle": "2024-08-09T13:29:30.351144Z",
     "shell.execute_reply": "2024-08-09T13:29:30.350256Z"
    },
    "papermill": {
     "duration": 5.973267,
     "end_time": "2024-08-09T13:29:30.353638",
     "exception": false,
     "start_time": "2024-08-09T13:29:24.380371",
     "status": "completed"
    },
    "tags": []
   },
   "outputs": [],
   "source": [
    "import torch\n",
    "import torch.nn as nn\n",
    "import torch.optim as optim\n",
    "import torch.nn.functional as F\n",
    "import torchvision\n",
    "import torchvision.transforms as transforms\n",
    "from torch.optim.lr_scheduler import CosineAnnealingLR"
   ]
  },
  {
   "cell_type": "code",
   "execution_count": 2,
   "id": "217f232b",
   "metadata": {
    "execution": {
     "iopub.execute_input": "2024-08-09T13:29:30.361634Z",
     "iopub.status.busy": "2024-08-09T13:29:30.360929Z",
     "iopub.status.idle": "2024-08-09T13:29:30.375394Z",
     "shell.execute_reply": "2024-08-09T13:29:30.374361Z"
    },
    "papermill": {
     "duration": 0.020555,
     "end_time": "2024-08-09T13:29:30.377510",
     "exception": false,
     "start_time": "2024-08-09T13:29:30.356955",
     "status": "completed"
    },
    "tags": []
   },
   "outputs": [],
   "source": [
    "class FSAM:\n",
    "    def __init__(self, rho = 0.05, sigma = 1, momentum = 0.6, lr = 0.05):\n",
    "        self.rho = rho\n",
    "        self.sigma = sigma\n",
    "        self.momentum = momentum\n",
    "        self.mt = None\n",
    "        self.lr = lr\n",
    "        \n",
    "    def train_model(self, model, inputs, labels, loss_fn):\n",
    "        outputs = model(inputs)\n",
    "        loss = loss_fn(outputs, labels)\n",
    "        loss.backward()\n",
    "        \n",
    "        g_t = [p.grad.detach() for p in model.parameters() if p.grad is not None]\n",
    "        \n",
    "        # Tinh m_t\n",
    "        if self.mt is None:\n",
    "            self.mt = [(1 - self.momentum) * g for g in g_t]\n",
    "        else:\n",
    "            self.mt = [self.momentum * m + (1 - self.momentum) * g for m, g in zip(self.mt, g_t)]\n",
    "        \n",
    "        # Tinh adversarial pertubation\n",
    "        d_t = [g - self.sigma * m for g, m in zip(g_t, self.mt)]\n",
    "        d_t_norm = torch.norm(torch.stack([torch.norm(d) for d in d_t]))\n",
    "        epsilon_t = [self.rho * d / (d_t_norm + 1e-12) for d in d_t]\n",
    "        \n",
    "        # Tinh gradient approximation\n",
    "        with torch.no_grad():\n",
    "            for p, epsilon in zip(model.parameters(), epsilon_t):\n",
    "                if p.grad is not None:\n",
    "                    p.add_(epsilon)\n",
    "        model.zero_grad()\n",
    "        \n",
    "        pertubation_output = model(inputs)\n",
    "        pertubation_loss = loss_fn(pertubation_output, labels)\n",
    "        pertubation_loss.backward()\n",
    "        app_gt = [p.grad.detach() for p in model.parameters() if p.grad is not None]\n",
    "        \n",
    "        # Khoi phuc tham so\n",
    "        with torch.no_grad():\n",
    "            for p, epsilon in zip(model.parameters(), epsilon_t):\n",
    "                if p.grad is not None:\n",
    "                    p.sub_(epsilon)\n",
    "        \n",
    "        # Cap nhat tham so\n",
    "        with torch.no_grad():\n",
    "            for p, app_g in zip(model.parameters(), app_gt):\n",
    "                if p.grad is not None:\n",
    "                    p.sub_(self.lr * app_g)\n",
    "        \n",
    "        model.zero_grad()"
   ]
  },
  {
   "cell_type": "code",
   "execution_count": 3,
   "id": "9ed71bf5",
   "metadata": {
    "execution": {
     "iopub.execute_input": "2024-08-09T13:29:30.384822Z",
     "iopub.status.busy": "2024-08-09T13:29:30.384479Z",
     "iopub.status.idle": "2024-08-09T13:29:37.272841Z",
     "shell.execute_reply": "2024-08-09T13:29:37.271619Z"
    },
    "papermill": {
     "duration": 6.894975,
     "end_time": "2024-08-09T13:29:37.275673",
     "exception": false,
     "start_time": "2024-08-09T13:29:30.380698",
     "status": "completed"
    },
    "tags": []
   },
   "outputs": [
    {
     "name": "stdout",
     "output_type": "stream",
     "text": [
      "Downloading https://www.cs.toronto.edu/~kriz/cifar-10-python.tar.gz to ./data/cifar-10-python.tar.gz\n"
     ]
    },
    {
     "name": "stderr",
     "output_type": "stream",
     "text": [
      "100%|██████████| 170498071/170498071 [00:02<00:00, 57548588.25it/s]\n"
     ]
    },
    {
     "name": "stdout",
     "output_type": "stream",
     "text": [
      "Extracting ./data/cifar-10-python.tar.gz to ./data\n",
      "Files already downloaded and verified\n"
     ]
    }
   ],
   "source": [
    "# CIFAR-10 dataset\n",
    "\n",
    "train_data = torchvision.datasets.CIFAR10(\n",
    "    root = './data',\n",
    "    train = True,\n",
    "    download = True,\n",
    "    transform = transforms.ToTensor()\n",
    ")\n",
    "train_dataloader = torch.utils.data.DataLoader(\n",
    "    train_data, \n",
    "    batch_size = 128,\n",
    "    shuffle = True\n",
    ")\n",
    "\n",
    "test_data = torchvision.datasets.CIFAR10(\n",
    "    root = './data',\n",
    "    train = False,\n",
    "    download = True,\n",
    "    transform = transforms.ToTensor()\n",
    ")\n",
    "test_dataloader = torch.utils.data.DataLoader(\n",
    "    test_data,\n",
    "    batch_size = 128,\n",
    "    shuffle = False\n",
    ")"
   ]
  },
  {
   "cell_type": "code",
   "execution_count": 4,
   "id": "721e79ff",
   "metadata": {
    "execution": {
     "iopub.execute_input": "2024-08-09T13:29:37.290547Z",
     "iopub.status.busy": "2024-08-09T13:29:37.290186Z",
     "iopub.status.idle": "2024-08-09T13:29:38.202445Z",
     "shell.execute_reply": "2024-08-09T13:29:38.201339Z"
    },
    "papermill": {
     "duration": 0.923164,
     "end_time": "2024-08-09T13:29:38.205452",
     "exception": false,
     "start_time": "2024-08-09T13:29:37.282288",
     "status": "completed"
    },
    "tags": []
   },
   "outputs": [
    {
     "name": "stderr",
     "output_type": "stream",
     "text": [
      "Downloading: \"https://download.pytorch.org/models/resnet18-f37072fd.pth\" to /root/.cache/torch/hub/checkpoints/resnet18-f37072fd.pth\n",
      "100%|██████████| 44.7M/44.7M [00:00<00:00, 109MB/s]\n"
     ]
    }
   ],
   "source": [
    "# Khoi tao model\n",
    "from torchvision.models import resnet18, ResNet18_Weights\n",
    "\n",
    "model = torchvision.models.resnet18(weights = ResNet18_Weights.DEFAULT)\n",
    "loss_fn = nn.CrossEntropyLoss()\n",
    "optimizer = FSAM()"
   ]
  },
  {
   "cell_type": "code",
   "execution_count": 5,
   "id": "fe55a4e0",
   "metadata": {
    "execution": {
     "iopub.execute_input": "2024-08-09T13:29:38.221359Z",
     "iopub.status.busy": "2024-08-09T13:29:38.220998Z",
     "iopub.status.idle": "2024-08-09T13:57:27.107817Z",
     "shell.execute_reply": "2024-08-09T13:57:27.106626Z"
    },
    "papermill": {
     "duration": 1668.90552,
     "end_time": "2024-08-09T13:57:27.118247",
     "exception": false,
     "start_time": "2024-08-09T13:29:38.212727",
     "status": "completed"
    },
    "tags": []
   },
   "outputs": [
    {
     "name": "stdout",
     "output_type": "stream",
     "text": [
      "[Epoch 1, Batch 100] loss: 1.016\n",
      "[Epoch 1, Batch 200] loss: 0.559\n",
      "[Epoch 1, Batch 300] loss: 0.461\n",
      "[Epoch 2, Batch 100] loss: 0.322\n",
      "[Epoch 2, Batch 200] loss: 0.310\n",
      "[Epoch 2, Batch 300] loss: 0.296\n",
      "[Epoch 3, Batch 100] loss: 0.216\n",
      "[Epoch 3, Batch 200] loss: 0.210\n",
      "[Epoch 3, Batch 300] loss: 0.215\n",
      "[Epoch 4, Batch 100] loss: 0.145\n",
      "[Epoch 4, Batch 200] loss: 0.148\n",
      "[Epoch 4, Batch 300] loss: 0.138\n",
      "[Epoch 5, Batch 100] loss: 0.100\n",
      "[Epoch 5, Batch 200] loss: 0.093\n",
      "[Epoch 5, Batch 300] loss: 0.102\n",
      "Finished Training\n"
     ]
    }
   ],
   "source": [
    "for epoch in range(5):\n",
    "    model.train()\n",
    "    running_loss = 0 \n",
    "    for i, (inputs, labels) in enumerate(train_dataloader, 0):\n",
    "        \n",
    "        optimizer.train_model(model, inputs, labels, loss_fn)\n",
    "        \n",
    "        running_loss += loss_fn(model(inputs), labels).item()\n",
    "        if i % 100 == 99:                # 100 minibatch\n",
    "            print(f'[Epoch {epoch + 1}, Batch {i + 1}] loss: {running_loss / 100:.3f}')\n",
    "            running_loss = 0.0\n",
    "\n",
    "print('Finished Training')\n",
    "\n",
    "# Save model\n",
    "torch.save(model.state_dict(), 'cifar10_fsam.pth')\n",
    "    "
   ]
  },
  {
   "cell_type": "code",
   "execution_count": 6,
   "id": "9fa29f73",
   "metadata": {
    "execution": {
     "iopub.execute_input": "2024-08-09T13:57:27.137569Z",
     "iopub.status.busy": "2024-08-09T13:57:27.136821Z",
     "iopub.status.idle": "2024-08-09T13:57:35.608197Z",
     "shell.execute_reply": "2024-08-09T13:57:35.607027Z"
    },
    "papermill": {
     "duration": 8.483951,
     "end_time": "2024-08-09T13:57:35.610748",
     "exception": false,
     "start_time": "2024-08-09T13:57:27.126797",
     "status": "completed"
    },
    "tags": []
   },
   "outputs": [
    {
     "name": "stdout",
     "output_type": "stream",
     "text": [
      "Accuracy of the network on the 10000 test images: 82.23%\n"
     ]
    }
   ],
   "source": [
    "# Test model\n",
    "\n",
    "model.eval()\n",
    "correct, total = 0.0, 0.0\n",
    "with torch.no_grad():\n",
    "    for inputs, labels in test_dataloader:\n",
    "        outputs = model(inputs)\n",
    "        _, predicted = torch.max(outputs.data, 1)\n",
    "        total += labels.size(0)\n",
    "        correct += (predicted == labels).sum().item()\n",
    "\n",
    "print(f'Accuracy of the network on the 10000 test images: {100 * correct / total:.2f}%')"
   ]
  }
 ],
 "metadata": {
  "kaggle": {
   "accelerator": "gpu",
   "dataSources": [],
   "dockerImageVersionId": 30746,
   "isGpuEnabled": true,
   "isInternetEnabled": true,
   "language": "python",
   "sourceType": "notebook"
  },
  "kernelspec": {
   "display_name": "Python 3",
   "language": "python",
   "name": "python3"
  },
  "language_info": {
   "codemirror_mode": {
    "name": "ipython",
    "version": 3
   },
   "file_extension": ".py",
   "mimetype": "text/x-python",
   "name": "python",
   "nbconvert_exporter": "python",
   "pygments_lexer": "ipython3",
   "version": "3.10.13"
  },
  "papermill": {
   "default_parameters": {},
   "duration": 1695.757677,
   "end_time": "2024-08-09T13:57:37.046645",
   "environment_variables": {},
   "exception": null,
   "input_path": "__notebook__.ipynb",
   "output_path": "__notebook__.ipynb",
   "parameters": {},
   "start_time": "2024-08-09T13:29:21.288968",
   "version": "2.5.0"
  }
 },
 "nbformat": 4,
 "nbformat_minor": 5
}
