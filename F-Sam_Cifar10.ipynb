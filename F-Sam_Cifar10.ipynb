{
 "cells": [
  {
   "cell_type": "code",
   "execution_count": 1,
   "id": "6881024a",
   "metadata": {
    "_cell_guid": "b1076dfc-b9ad-4769-8c92-a6c4dae69d19",
    "_uuid": "8f2839f25d086af736a60e9eeb907d3b93b6e0e5",
    "execution": {
     "iopub.execute_input": "2024-08-09T14:05:13.618854Z",
     "iopub.status.busy": "2024-08-09T14:05:13.618513Z",
     "iopub.status.idle": "2024-08-09T14:05:18.859296Z",
     "shell.execute_reply": "2024-08-09T14:05:18.858499Z"
    },
    "papermill": {
     "duration": 5.247588,
     "end_time": "2024-08-09T14:05:18.861684",
     "exception": false,
     "start_time": "2024-08-09T14:05:13.614096",
     "status": "completed"
    },
    "tags": []
   },
   "outputs": [],
   "source": [
    "import torch\n",
    "import torch.nn as nn\n",
    "import torch.optim as optim\n",
    "import torch.nn.functional as F\n",
    "import torchvision\n",
    "import torchvision.transforms as transforms\n",
    "from torch.optim.lr_scheduler import CosineAnnealingLR"
   ]
  },
  {
   "cell_type": "code",
   "execution_count": 2,
   "id": "2beababc",
   "metadata": {
    "execution": {
     "iopub.execute_input": "2024-08-09T14:05:18.870641Z",
     "iopub.status.busy": "2024-08-09T14:05:18.869939Z",
     "iopub.status.idle": "2024-08-09T14:05:18.883784Z",
     "shell.execute_reply": "2024-08-09T14:05:18.882835Z"
    },
    "papermill": {
     "duration": 0.020601,
     "end_time": "2024-08-09T14:05:18.885823",
     "exception": false,
     "start_time": "2024-08-09T14:05:18.865222",
     "status": "completed"
    },
    "tags": []
   },
   "outputs": [],
   "source": [
    "class FSAM:\n",
    "    def __init__(self, rho = 0.05, sigma = 1, momentum = 0.6, lr = 0.05):\n",
    "        self.rho = rho\n",
    "        self.sigma = sigma\n",
    "        self.momentum = momentum\n",
    "        self.mt = None\n",
    "        self.lr = lr\n",
    "        \n",
    "    def train_model(self, model, inputs, labels, loss_fn):\n",
    "        outputs = model(inputs)\n",
    "        loss = loss_fn(outputs, labels)\n",
    "        loss.backward()\n",
    "        \n",
    "        g_t = [p.grad.detach() for p in model.parameters() if p.grad is not None]\n",
    "        \n",
    "        # Tinh m_t\n",
    "        if self.mt is None:\n",
    "            self.mt = [(1 - self.momentum) * g for g in g_t]\n",
    "        else:\n",
    "            self.mt = [self.momentum * m + (1 - self.momentum) * g for m, g in zip(self.mt, g_t)]\n",
    "        \n",
    "        # Tinh adversarial pertubation\n",
    "        d_t = [g - self.sigma * m for g, m in zip(g_t, self.mt)]\n",
    "        d_t_norm = torch.norm(torch.stack([torch.norm(d) for d in d_t]))\n",
    "        epsilon_t = [self.rho * d / (d_t_norm + 1e-12) for d in d_t]\n",
    "        \n",
    "        # Tinh gradient approximation\n",
    "        with torch.no_grad():\n",
    "            for p, epsilon in zip(model.parameters(), epsilon_t):\n",
    "                if p.grad is not None:\n",
    "                    p.add_(epsilon)\n",
    "        model.zero_grad()\n",
    "        \n",
    "        pertubation_output = model(inputs)\n",
    "        pertubation_loss = loss_fn(pertubation_output, labels)\n",
    "        pertubation_loss.backward()\n",
    "        app_gt = [p.grad.detach() for p in model.parameters() if p.grad is not None]\n",
    "        \n",
    "        # Khoi phuc tham so\n",
    "        with torch.no_grad():\n",
    "            for p, epsilon in zip(model.parameters(), epsilon_t):\n",
    "                if p.grad is not None:\n",
    "                    p.sub_(epsilon)\n",
    "        \n",
    "        # Cap nhat tham so\n",
    "        with torch.no_grad():\n",
    "            for p, app_g in zip(model.parameters(), app_gt):\n",
    "                if p.grad is not None:\n",
    "                    p.sub_(self.lr * app_g)\n",
    "        \n",
    "        model.zero_grad()"
   ]
  },
  {
   "cell_type": "code",
   "execution_count": 3,
   "id": "639a2327",
   "metadata": {
    "execution": {
     "iopub.execute_input": "2024-08-09T14:05:18.892367Z",
     "iopub.status.busy": "2024-08-09T14:05:18.892091Z",
     "iopub.status.idle": "2024-08-09T14:05:25.946695Z",
     "shell.execute_reply": "2024-08-09T14:05:25.945890Z"
    },
    "papermill": {
     "duration": 7.06028,
     "end_time": "2024-08-09T14:05:25.948910",
     "exception": false,
     "start_time": "2024-08-09T14:05:18.888630",
     "status": "completed"
    },
    "tags": []
   },
   "outputs": [
    {
     "name": "stdout",
     "output_type": "stream",
     "text": [
      "Downloading https://www.cs.toronto.edu/~kriz/cifar-10-python.tar.gz to ./data/cifar-10-python.tar.gz\n"
     ]
    },
    {
     "name": "stderr",
     "output_type": "stream",
     "text": [
      "100%|██████████| 170498071/170498071 [00:03<00:00, 48517352.52it/s]\n"
     ]
    },
    {
     "name": "stdout",
     "output_type": "stream",
     "text": [
      "Extracting ./data/cifar-10-python.tar.gz to ./data\n",
      "Files already downloaded and verified\n"
     ]
    }
   ],
   "source": [
    "# CIFAR-10 dataset\n",
    "\n",
    "train_data = torchvision.datasets.CIFAR10(\n",
    "    root = './data',\n",
    "    train = True,\n",
    "    download = True,\n",
    "    transform = transforms.ToTensor()\n",
    ")\n",
    "train_dataloader = torch.utils.data.DataLoader(\n",
    "    train_data, \n",
    "    batch_size = 128,\n",
    "    shuffle = True\n",
    ")\n",
    "\n",
    "test_data = torchvision.datasets.CIFAR10(\n",
    "    root = './data',\n",
    "    train = False,\n",
    "    download = True,\n",
    "    transform = transforms.ToTensor()\n",
    ")\n",
    "test_dataloader = torch.utils.data.DataLoader(\n",
    "    test_data,\n",
    "    batch_size = 128,\n",
    "    shuffle = False\n",
    ")"
   ]
  },
  {
   "cell_type": "code",
   "execution_count": 4,
   "id": "8d64e4b9",
   "metadata": {
    "execution": {
     "iopub.execute_input": "2024-08-09T14:05:25.961359Z",
     "iopub.status.busy": "2024-08-09T14:05:25.961035Z",
     "iopub.status.idle": "2024-08-09T14:05:26.605451Z",
     "shell.execute_reply": "2024-08-09T14:05:26.604427Z"
    },
    "papermill": {
     "duration": 0.653149,
     "end_time": "2024-08-09T14:05:26.607809",
     "exception": false,
     "start_time": "2024-08-09T14:05:25.954660",
     "status": "completed"
    },
    "tags": []
   },
   "outputs": [
    {
     "name": "stderr",
     "output_type": "stream",
     "text": [
      "Downloading: \"https://download.pytorch.org/models/resnet18-f37072fd.pth\" to /root/.cache/torch/hub/checkpoints/resnet18-f37072fd.pth\n",
      "100%|██████████| 44.7M/44.7M [00:00<00:00, 158MB/s]\n"
     ]
    }
   ],
   "source": [
    "# Khoi tao model\n",
    "from torchvision.models import resnet18, ResNet18_Weights\n",
    "\n",
    "model = torchvision.models.resnet18(weights = ResNet18_Weights.DEFAULT)\n",
    "loss_fn = nn.CrossEntropyLoss()\n",
    "optimizer = FSAM()"
   ]
  },
  {
   "cell_type": "code",
   "execution_count": 5,
   "id": "609369cb",
   "metadata": {
    "execution": {
     "iopub.execute_input": "2024-08-09T14:05:26.622277Z",
     "iopub.status.busy": "2024-08-09T14:05:26.621945Z",
     "iopub.status.idle": "2024-08-09T14:50:49.199184Z",
     "shell.execute_reply": "2024-08-09T14:50:49.198159Z"
    },
    "papermill": {
     "duration": 2722.594241,
     "end_time": "2024-08-09T14:50:49.209089",
     "exception": false,
     "start_time": "2024-08-09T14:05:26.614848",
     "status": "completed"
    },
    "tags": []
   },
   "outputs": [
    {
     "name": "stdout",
     "output_type": "stream",
     "text": [
      "[Epoch 1, Batch 100] loss: 1.099\n",
      "[Epoch 1, Batch 200] loss: 0.557\n",
      "[Epoch 1, Batch 300] loss: 0.467\n",
      "[Epoch 2, Batch 100] loss: 0.335\n",
      "[Epoch 2, Batch 200] loss: 0.318\n",
      "[Epoch 2, Batch 300] loss: 0.303\n",
      "[Epoch 3, Batch 100] loss: 0.224\n",
      "[Epoch 3, Batch 200] loss: 0.207\n",
      "[Epoch 3, Batch 300] loss: 0.212\n",
      "[Epoch 4, Batch 100] loss: 0.144\n",
      "[Epoch 4, Batch 200] loss: 0.143\n",
      "[Epoch 4, Batch 300] loss: 0.148\n",
      "[Epoch 5, Batch 100] loss: 0.104\n",
      "[Epoch 5, Batch 200] loss: 0.093\n",
      "[Epoch 5, Batch 300] loss: 0.101\n",
      "[Epoch 6, Batch 100] loss: 0.069\n",
      "[Epoch 6, Batch 200] loss: 0.063\n",
      "[Epoch 6, Batch 300] loss: 0.068\n",
      "[Epoch 7, Batch 100] loss: 0.047\n",
      "[Epoch 7, Batch 200] loss: 0.043\n",
      "[Epoch 7, Batch 300] loss: 0.048\n",
      "[Epoch 8, Batch 100] loss: 0.033\n",
      "[Epoch 8, Batch 200] loss: 0.030\n",
      "[Epoch 8, Batch 300] loss: 0.032\n",
      "[Epoch 9, Batch 100] loss: 0.023\n",
      "[Epoch 9, Batch 200] loss: 0.024\n",
      "[Epoch 9, Batch 300] loss: 0.022\n",
      "[Epoch 10, Batch 100] loss: 0.016\n",
      "[Epoch 10, Batch 200] loss: 0.018\n",
      "[Epoch 10, Batch 300] loss: 0.016\n",
      "Finished Training\n"
     ]
    }
   ],
   "source": [
    "for epoch in range(10):\n",
    "    model.train()\n",
    "    running_loss = 0 \n",
    "    for i, (inputs, labels) in enumerate(train_dataloader, 0):\n",
    "        \n",
    "        optimizer.train_model(model, inputs, labels, loss_fn)\n",
    "        \n",
    "        running_loss += loss_fn(model(inputs), labels).item()\n",
    "        if i % 100 == 99:                # 100 minibatch\n",
    "            print(f'[Epoch {epoch + 1}, Batch {i + 1}] loss: {running_loss / 100:.3f}')\n",
    "            running_loss = 0.0\n",
    "\n",
    "print('Finished Training')\n",
    "\n",
    "# Save model\n",
    "torch.save(model.state_dict(), 'cifar10_fsam.pth')\n",
    "    "
   ]
  },
  {
   "cell_type": "code",
   "execution_count": 6,
   "id": "d03ceeb5",
   "metadata": {
    "execution": {
     "iopub.execute_input": "2024-08-09T14:50:49.226505Z",
     "iopub.status.busy": "2024-08-09T14:50:49.226176Z",
     "iopub.status.idle": "2024-08-09T14:50:56.167035Z",
     "shell.execute_reply": "2024-08-09T14:50:56.166045Z"
    },
    "papermill": {
     "duration": 6.952072,
     "end_time": "2024-08-09T14:50:56.169247",
     "exception": false,
     "start_time": "2024-08-09T14:50:49.217175",
     "status": "completed"
    },
    "tags": []
   },
   "outputs": [
    {
     "name": "stdout",
     "output_type": "stream",
     "text": [
      "Accuracy of the network on the 10000 test images: 83.36%\n"
     ]
    }
   ],
   "source": [
    "# Test model\n",
    "\n",
    "model.eval()\n",
    "correct, total = 0.0, 0.0\n",
    "with torch.no_grad():\n",
    "    for inputs, labels in test_dataloader:\n",
    "        outputs = model(inputs)\n",
    "        _, predicted = torch.max(outputs.data, 1)\n",
    "        total += labels.size(0)\n",
    "        correct += (predicted == labels).sum().item()\n",
    "\n",
    "print(f'Accuracy of the network on the 10000 test images: {100 * correct / total:.2f}%')"
   ]
  }
 ],
 "metadata": {
  "kaggle": {
   "accelerator": "gpu",
   "dataSources": [],
   "dockerImageVersionId": 30746,
   "isGpuEnabled": true,
   "isInternetEnabled": true,
   "language": "python",
   "sourceType": "notebook"
  },
  "kernelspec": {
   "display_name": "Python 3",
   "language": "python",
   "name": "python3"
  },
  "language_info": {
   "codemirror_mode": {
    "name": "ipython",
    "version": 3
   },
   "file_extension": ".py",
   "mimetype": "text/x-python",
   "name": "python",
   "nbconvert_exporter": "python",
   "pygments_lexer": "ipython3",
   "version": "3.10.13"
  },
  "papermill": {
   "default_parameters": {},
   "duration": 2746.570331,
   "end_time": "2024-08-09T14:50:57.404887",
   "environment_variables": {},
   "exception": null,
   "input_path": "__notebook__.ipynb",
   "output_path": "__notebook__.ipynb",
   "parameters": {},
   "start_time": "2024-08-09T14:05:10.834556",
   "version": "2.5.0"
  }
 },
 "nbformat": 4,
 "nbformat_minor": 5
}
