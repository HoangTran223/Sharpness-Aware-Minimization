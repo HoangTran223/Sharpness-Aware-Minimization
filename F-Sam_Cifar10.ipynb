{
 "cells": [
  {
   "cell_type": "code",
   "execution_count": 1,
   "id": "87186f54",
   "metadata": {
    "_cell_guid": "b1076dfc-b9ad-4769-8c92-a6c4dae69d19",
    "_uuid": "8f2839f25d086af736a60e9eeb907d3b93b6e0e5",
    "execution": {
     "iopub.execute_input": "2024-08-17T11:23:32.146286Z",
     "iopub.status.busy": "2024-08-17T11:23:32.146005Z",
     "iopub.status.idle": "2024-08-17T11:23:36.836725Z",
     "shell.execute_reply": "2024-08-17T11:23:36.835717Z"
    },
    "papermill": {
     "duration": 4.697864,
     "end_time": "2024-08-17T11:23:36.839868",
     "exception": false,
     "start_time": "2024-08-17T11:23:32.142004",
     "status": "completed"
    },
    "tags": []
   },
   "outputs": [],
   "source": [
    "import torch\n",
    "import torch.nn as nn\n",
    "import torch.optim as optim\n",
    "import torch.nn.functional as F\n",
    "import torchvision\n",
    "import torchvision.transforms as transforms\n",
    "from torch.optim.lr_scheduler import CosineAnnealingLR"
   ]
  },
  {
   "cell_type": "code",
   "execution_count": 2,
   "id": "7af42381",
   "metadata": {
    "execution": {
     "iopub.execute_input": "2024-08-17T11:23:36.848536Z",
     "iopub.status.busy": "2024-08-17T11:23:36.847755Z",
     "iopub.status.idle": "2024-08-17T11:23:36.864112Z",
     "shell.execute_reply": "2024-08-17T11:23:36.863066Z"
    },
    "papermill": {
     "duration": 0.023053,
     "end_time": "2024-08-17T11:23:36.866598",
     "exception": false,
     "start_time": "2024-08-17T11:23:36.843545",
     "status": "completed"
    },
    "tags": []
   },
   "outputs": [],
   "source": [
    "class FSAM:\n",
    "    def __init__(self, rho = 0.05, sigma = 1, momentum = 0.6, lr = 0.05):\n",
    "        self.rho = rho\n",
    "        self.sigma = sigma\n",
    "        self.momentum = momentum\n",
    "        self.mt = None\n",
    "        self.lr = lr\n",
    "        \n",
    "    def train_model(self, model, inputs, labels, loss_fn):\n",
    "        outputs = model(inputs)\n",
    "        loss = loss_fn(outputs, labels)\n",
    "        loss.backward()\n",
    "        \n",
    "        g_t = [p.grad.detach() for p in model.parameters() if p.grad is not None]\n",
    "        \n",
    "        # Tinh m_t\n",
    "        if self.mt is None:\n",
    "            self.mt = [(1 - self.momentum) * g for g in g_t]\n",
    "        else:\n",
    "            self.mt = [self.momentum * m + (1 - self.momentum) * g for m, g in zip(self.mt, g_t)]\n",
    "        \n",
    "        # Tinh adversarial pertubation\n",
    "        d_t = [g - self.sigma * m for g, m in zip(g_t, self.mt)]\n",
    "        d_t_norm = torch.norm(torch.stack([torch.norm(d) for d in d_t]))\n",
    "        epsilon_t = [self.rho * d / (d_t_norm + 1e-12) for d in d_t]\n",
    "        \n",
    "        # Tinh gradient approximation\n",
    "        with torch.no_grad():\n",
    "            for p, epsilon in zip(model.parameters(), epsilon_t):\n",
    "                if p.grad is not None:\n",
    "                    p.add_(epsilon)\n",
    "        model.zero_grad()\n",
    "        \n",
    "        pertubation_output = model(inputs)\n",
    "        pertubation_loss = loss_fn(pertubation_output, labels)\n",
    "        pertubation_loss.backward()\n",
    "        app_gt = [p.grad.detach() for p in model.parameters() if p.grad is not None]\n",
    "        \n",
    "        # Khoi phuc tham so\n",
    "        with torch.no_grad():\n",
    "            for p, epsilon in zip(model.parameters(), epsilon_t):\n",
    "                if p.grad is not None:\n",
    "                    p.sub_(epsilon)\n",
    "        \n",
    "        # Cap nhat tham so\n",
    "        with torch.no_grad():\n",
    "            for p, app_g in zip(model.parameters(), app_gt):\n",
    "                if p.grad is not None:\n",
    "                    p.sub_(self.lr * app_g)\n",
    "        \n",
    "        model.zero_grad()"
   ]
  },
  {
   "cell_type": "code",
   "execution_count": 3,
   "id": "3d9eae30",
   "metadata": {
    "execution": {
     "iopub.execute_input": "2024-08-17T11:23:36.875111Z",
     "iopub.status.busy": "2024-08-17T11:23:36.874748Z",
     "iopub.status.idle": "2024-08-17T11:23:45.215499Z",
     "shell.execute_reply": "2024-08-17T11:23:45.214475Z"
    },
    "papermill": {
     "duration": 8.347804,
     "end_time": "2024-08-17T11:23:45.217962",
     "exception": false,
     "start_time": "2024-08-17T11:23:36.870158",
     "status": "completed"
    },
    "tags": []
   },
   "outputs": [
    {
     "name": "stdout",
     "output_type": "stream",
     "text": [
      "Downloading https://www.cs.toronto.edu/~kriz/cifar-10-python.tar.gz to ./data/cifar-10-python.tar.gz\n"
     ]
    },
    {
     "name": "stderr",
     "output_type": "stream",
     "text": [
      "100%|██████████| 170498071/170498071 [00:04<00:00, 35002720.75it/s]\n"
     ]
    },
    {
     "name": "stdout",
     "output_type": "stream",
     "text": [
      "Extracting ./data/cifar-10-python.tar.gz to ./data\n",
      "Files already downloaded and verified\n"
     ]
    }
   ],
   "source": [
    "# CIFAR-10 dataset\n",
    "\n",
    "train_data = torchvision.datasets.CIFAR10(\n",
    "    root = './data',\n",
    "    train = True,\n",
    "    download = True,\n",
    "    transform = transforms.ToTensor()\n",
    ")\n",
    "train_dataloader = torch.utils.data.DataLoader(\n",
    "    train_data, \n",
    "    batch_size = 128,\n",
    "    shuffle = True\n",
    ")\n",
    "\n",
    "test_data = torchvision.datasets.CIFAR10(\n",
    "    root = './data',\n",
    "    train = False,\n",
    "    download = True,\n",
    "    transform = transforms.ToTensor()\n",
    ")\n",
    "test_dataloader = torch.utils.data.DataLoader(\n",
    "    test_data,\n",
    "    batch_size = 128,\n",
    "    shuffle = False\n",
    ")"
   ]
  },
  {
   "cell_type": "code",
   "execution_count": 4,
   "id": "26ed0a9b",
   "metadata": {
    "execution": {
     "iopub.execute_input": "2024-08-17T11:23:45.232558Z",
     "iopub.status.busy": "2024-08-17T11:23:45.232245Z",
     "iopub.status.idle": "2024-08-17T11:23:45.862211Z",
     "shell.execute_reply": "2024-08-17T11:23:45.861245Z"
    },
    "papermill": {
     "duration": 0.639874,
     "end_time": "2024-08-17T11:23:45.864707",
     "exception": false,
     "start_time": "2024-08-17T11:23:45.224833",
     "status": "completed"
    },
    "tags": []
   },
   "outputs": [
    {
     "name": "stderr",
     "output_type": "stream",
     "text": [
      "Downloading: \"https://download.pytorch.org/models/resnet18-f37072fd.pth\" to /root/.cache/torch/hub/checkpoints/resnet18-f37072fd.pth\n",
      "100%|██████████| 44.7M/44.7M [00:00<00:00, 156MB/s]\n"
     ]
    }
   ],
   "source": [
    "# Khoi tao model\n",
    "from torchvision.models import resnet18, ResNet18_Weights\n",
    "\n",
    "model = torchvision.models.resnet18(weights = ResNet18_Weights.DEFAULT)\n",
    "loss_fn = nn.CrossEntropyLoss()\n",
    "optimizer = FSAM()"
   ]
  },
  {
   "cell_type": "code",
   "execution_count": 5,
   "id": "845f40b5",
   "metadata": {
    "execution": {
     "iopub.execute_input": "2024-08-17T11:23:45.881217Z",
     "iopub.status.busy": "2024-08-17T11:23:45.880873Z",
     "iopub.status.idle": "2024-08-17T12:54:00.656031Z",
     "shell.execute_reply": "2024-08-17T12:54:00.654994Z"
    },
    "papermill": {
     "duration": 5414.796555,
     "end_time": "2024-08-17T12:54:00.669430",
     "exception": false,
     "start_time": "2024-08-17T11:23:45.872875",
     "status": "completed"
    },
    "tags": []
   },
   "outputs": [
    {
     "name": "stdout",
     "output_type": "stream",
     "text": [
      "[Epoch 1, Batch 100] loss: 1.094\n",
      "[Epoch 1, Batch 200] loss: 0.555\n",
      "[Epoch 1, Batch 300] loss: 0.480\n",
      "[Epoch 2, Batch 100] loss: 0.340\n",
      "[Epoch 2, Batch 200] loss: 0.322\n",
      "[Epoch 2, Batch 300] loss: 0.308\n",
      "[Epoch 3, Batch 100] loss: 0.232\n",
      "[Epoch 3, Batch 200] loss: 0.222\n",
      "[Epoch 3, Batch 300] loss: 0.219\n",
      "[Epoch 4, Batch 100] loss: 0.159\n",
      "[Epoch 4, Batch 200] loss: 0.155\n",
      "[Epoch 4, Batch 300] loss: 0.150\n",
      "[Epoch 5, Batch 100] loss: 0.104\n",
      "[Epoch 5, Batch 200] loss: 0.102\n",
      "[Epoch 5, Batch 300] loss: 0.103\n",
      "[Epoch 6, Batch 100] loss: 0.073\n",
      "[Epoch 6, Batch 200] loss: 0.073\n",
      "[Epoch 6, Batch 300] loss: 0.073\n",
      "[Epoch 7, Batch 100] loss: 0.052\n",
      "[Epoch 7, Batch 200] loss: 0.047\n",
      "[Epoch 7, Batch 300] loss: 0.052\n",
      "[Epoch 8, Batch 100] loss: 0.038\n",
      "[Epoch 8, Batch 200] loss: 0.034\n",
      "[Epoch 8, Batch 300] loss: 0.036\n",
      "[Epoch 9, Batch 100] loss: 0.027\n",
      "[Epoch 9, Batch 200] loss: 0.026\n",
      "[Epoch 9, Batch 300] loss: 0.026\n",
      "[Epoch 10, Batch 100] loss: 0.018\n",
      "[Epoch 10, Batch 200] loss: 0.022\n",
      "[Epoch 10, Batch 300] loss: 0.019\n",
      "[Epoch 11, Batch 100] loss: 0.014\n",
      "[Epoch 11, Batch 200] loss: 0.014\n",
      "[Epoch 11, Batch 300] loss: 0.016\n",
      "[Epoch 12, Batch 100] loss: 0.011\n",
      "[Epoch 12, Batch 200] loss: 0.010\n",
      "[Epoch 12, Batch 300] loss: 0.012\n",
      "[Epoch 13, Batch 100] loss: 0.009\n",
      "[Epoch 13, Batch 200] loss: 0.010\n",
      "[Epoch 13, Batch 300] loss: 0.009\n",
      "[Epoch 14, Batch 100] loss: 0.008\n",
      "[Epoch 14, Batch 200] loss: 0.008\n",
      "[Epoch 14, Batch 300] loss: 0.007\n",
      "[Epoch 15, Batch 100] loss: 0.007\n",
      "[Epoch 15, Batch 200] loss: 0.007\n",
      "[Epoch 15, Batch 300] loss: 0.007\n",
      "[Epoch 16, Batch 100] loss: 0.006\n",
      "[Epoch 16, Batch 200] loss: 0.005\n",
      "[Epoch 16, Batch 300] loss: 0.006\n",
      "[Epoch 17, Batch 100] loss: 0.005\n",
      "[Epoch 17, Batch 200] loss: 0.005\n",
      "[Epoch 17, Batch 300] loss: 0.005\n",
      "[Epoch 18, Batch 100] loss: 0.004\n",
      "[Epoch 18, Batch 200] loss: 0.004\n",
      "[Epoch 18, Batch 300] loss: 0.005\n",
      "[Epoch 19, Batch 100] loss: 0.004\n",
      "[Epoch 19, Batch 200] loss: 0.005\n",
      "[Epoch 19, Batch 300] loss: 0.004\n",
      "[Epoch 20, Batch 100] loss: 0.004\n",
      "[Epoch 20, Batch 200] loss: 0.004\n",
      "[Epoch 20, Batch 300] loss: 0.004\n",
      "Finished Training\n"
     ]
    }
   ],
   "source": [
    "for epoch in range(20):\n",
    "    model.train()\n",
    "    running_loss = 0 \n",
    "    for i, (inputs, labels) in enumerate(train_dataloader, 0):\n",
    "        \n",
    "        optimizer.train_model(model, inputs, labels, loss_fn)\n",
    "        \n",
    "        running_loss += loss_fn(model(inputs), labels).item()\n",
    "        if i % 100 == 99:                # 100 minibatch\n",
    "            print(f'[Epoch {epoch + 1}, Batch {i + 1}] loss: {running_loss / 100:.3f}')\n",
    "            running_loss = 0.0\n",
    "\n",
    "print('Finished Training')\n",
    "\n",
    "# Save model\n",
    "torch.save(model.state_dict(), 'cifar10_fsam.pth')\n",
    "    "
   ]
  },
  {
   "cell_type": "code",
   "execution_count": 6,
   "id": "82bb063b",
   "metadata": {
    "execution": {
     "iopub.execute_input": "2024-08-17T12:54:00.694551Z",
     "iopub.status.busy": "2024-08-17T12:54:00.693546Z",
     "iopub.status.idle": "2024-08-17T12:54:07.897042Z",
     "shell.execute_reply": "2024-08-17T12:54:07.895765Z"
    },
    "papermill": {
     "duration": 7.218681,
     "end_time": "2024-08-17T12:54:07.899487",
     "exception": false,
     "start_time": "2024-08-17T12:54:00.680806",
     "status": "completed"
    },
    "tags": []
   },
   "outputs": [
    {
     "name": "stdout",
     "output_type": "stream",
     "text": [
      "Accuracy of the network on the 10000 test images: 83.63%\n"
     ]
    }
   ],
   "source": [
    "# Test model\n",
    "\n",
    "model.eval()\n",
    "correct, total = 0.0, 0.0\n",
    "with torch.no_grad():\n",
    "    for inputs, labels in test_dataloader:\n",
    "        outputs = model(inputs)\n",
    "        _, predicted = torch.max(outputs.data, 1)\n",
    "        total += labels.size(0)\n",
    "        correct += (predicted == labels).sum().item()\n",
    "\n",
    "print(f'Accuracy of the network on the 10000 test images: {100 * correct / total:.2f}%')"
   ]
  }
 ],
 "metadata": {
  "kaggle": {
   "accelerator": "gpu",
   "dataSources": [],
   "isGpuEnabled": true,
   "isInternetEnabled": true,
   "language": "python",
   "sourceType": "notebook"
  },
  "kernelspec": {
   "display_name": "Python 3",
   "language": "python",
   "name": "python3"
  },
  "language_info": {
   "codemirror_mode": {
    "name": "ipython",
    "version": 3
   },
   "file_extension": ".py",
   "mimetype": "text/x-python",
   "name": "python",
   "nbconvert_exporter": "python",
   "pygments_lexer": "ipython3",
   "version": "3.10.13"
  },
  "papermill": {
   "default_parameters": {},
   "duration": 5439.676726,
   "end_time": "2024-08-17T12:54:09.145135",
   "environment_variables": {},
   "exception": null,
   "input_path": "__notebook__.ipynb",
   "output_path": "__notebook__.ipynb",
   "parameters": {},
   "start_time": "2024-08-17T11:23:29.468409",
   "version": "2.5.0"
  }
 },
 "nbformat": 4,
 "nbformat_minor": 5
}
